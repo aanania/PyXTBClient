{
 "cells": [
  {
   "cell_type": "code",
   "execution_count": 39,
   "metadata": {},
   "outputs": [],
   "source": [
    "import sys\n",
    "sys.path.append(\"/projects/PyXTBClient/\") # go to parent dir\n",
    "import client.xtb_client as xtb_client\n",
    "import client.constants as xtb_constants\n",
    "import client.xtb_wrapper as xtb_wrapper\n",
    "import yaml\n",
    "from datetime import datetime\n",
    "import pandas as pd"
   ]
  },
  {
   "cell_type": "code",
   "execution_count": 40,
   "metadata": {},
   "outputs": [],
   "source": [
    "client = xtb_wrapper.XTBClientWrapper()\n",
    "client.load_configuration()"
   ]
  },
  {
   "cell_type": "code",
   "execution_count": 41,
   "metadata": {},
   "outputs": [],
   "source": [
    "client.login()"
   ]
  },
  {
   "cell_type": "code",
   "execution_count": 42,
   "metadata": {},
   "outputs": [],
   "source": [
    "start = datetime(2015,2,25,0,0,0)\n",
    "end = datetime(2020,3,28,0,0,0)\n",
    "data = client.get_data_symbol(symbol='US500', start=start, end=end, period=xtb_constants.Period.h1)"
   ]
  },
  {
   "cell_type": "code",
   "execution_count": 43,
   "metadata": {},
   "outputs": [
    {
     "data": {
      "text/plain": [
       "<matplotlib.axes._subplots.AxesSubplot at 0x7fc5b2c19d10>"
      ]
     },
     "execution_count": 43,
     "metadata": {},
     "output_type": "execute_result"
    },
    {
     "data": {
      "image/png": "[encoded data removed]",
      "text/plain": [
       "<Figure size 432x288 with 1 Axes>"
      ]
     },
     "metadata": {
      "needs_background": "light"
     },
     "output_type": "display_data"
    }
   ],
   "source": [
    "data['open'].plot()"
   ]
  },
  {
   "cell_type": "code",
   "execution_count": 44,
   "metadata": {},
   "outputs": [
    {
     "data": {
      "text/plain": [
       "datetime\n",
       "2020-03-27 13:00:00    2525.2\n",
       "2020-03-27 14:00:00    2526.9\n",
       "2020-03-27 15:00:00    2527.4\n",
       "2020-03-27 16:00:00    2521.8\n",
       "2020-03-27 17:00:00    2547.2\n",
       "Name: open, dtype: float64"
      ]
     },
     "execution_count": 44,
     "metadata": {},
     "output_type": "execute_result"
    }
   ],
   "source": [
    "data['open'].tail()"
   ]
  },
  {
   "cell_type": "code",
   "execution_count": 48,
   "metadata": {},
   "outputs": [],
   "source": [
    "file_name = \"../../../data/US500_h.csv\"\n",
    "data.to_csv(file_name, encoding='utf-8')"
   ]
  },
  {
   "cell_type": "code",
   "execution_count": 49,
   "metadata": {},
   "outputs": [
    {
     "name": "stdout",
     "output_type": "stream",
     "text": [
      "data_2017.xlsx\tNasdaq100D.csv\tNASDAQ2017.xlsx  US500_h.csv\r\n",
      "Nasdaq100.csv\tNASDAQ2017.csv\tSPY.csv\t\t US500_m.csv\r\n"
     ]
    }
   ],
   "source": [
    "!ls ../../../data"
   ]
  },
  {
   "cell_type": "code",
   "execution_count": 50,
   "metadata": {},
   "outputs": [
    {
     "name": "stdout",
     "output_type": "stream",
     "text": [
      "datetime,open,close,high,low\r\n",
      "2018-03-21 23:00:00,2718.4,2718.1,2718.7,2716.4\r\n",
      "2018-03-22 00:00:00,2718.0,2718.2,2722.0,2713.9\r\n",
      "2018-03-22 01:00:00,2721.2,2722.5,2725.9,2721.2\r\n",
      "2018-03-22 02:00:00,2722.2,2718.5,2723.4,2717.8\r\n",
      "2018-03-22 06:00:00,2721.2,2721.1,2723.0,2715.8\r\n",
      "2018-03-22 07:00:00,2716.0,2699.6,2716.0,2697.3\r\n",
      "2018-03-22 08:00:00,2699.6,2706.7,2707.3,2697.6\r\n",
      "2018-03-22 12:00:00,2696.1,2696.3,2706.7,2686.1\r\n",
      "2018-03-22 13:00:00,2689.4,2685.6,2693.0,2680.6\r\n"
     ]
    }
   ],
   "source": [
    "!head ../../../data/US500_h.csv"
   ]
  },
  {
   "cell_type": "code",
   "execution_count": null,
   "metadata": {},
   "outputs": [],
   "source": []
  }
 ],
 "metadata": {
  "kernelspec": {
   "display_name": "Python 3",
   "language": "python",
   "name": "python3"
  },
  "language_info": {
   "codemirror_mode": {
    "name": "ipython",
    "version": 3
   },
   "file_extension": ".py",
   "mimetype": "text/x-python",
   "name": "python",
   "nbconvert_exporter": "python",
   "pygments_lexer": "ipython3",
   "version": "3.7.6"
  }
 },
 "nbformat": 4,
 "nbformat_minor": 4
}
